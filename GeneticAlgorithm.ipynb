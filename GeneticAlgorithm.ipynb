{
 "cells": [
  {
   "cell_type": "markdown",
   "metadata": {
    "id": "nvypwnm4d627"
   },
   "source": [
    "# **Implementation of the Genetic Algorithm**"
   ]
  },
  {
   "cell_type": "markdown",
   "metadata": {},
   "source": [
    "El siguiente algoritmo genético nos dará las dimensiones de una piscina rectangular, cuyo volumen es 2500 m3, para que sea recubierta por la menor cantidad de azulejos posibles. \n",
    "La superficie de cada azulejo es 0.5 m2 y el volumen de la piscina puede variar un rango de 10%. "
   ]
  },
  {
   "cell_type": "markdown",
   "metadata": {
    "id": "jLhyd2EbeVmN"
   },
   "source": [
    "## Libraries"
   ]
  },
  {
   "cell_type": "code",
   "execution_count": 429,
   "metadata": {
    "id": "WCR7cWvEyaZU"
   },
   "outputs": [],
   "source": [
    "import random\n",
    "import numpy"
   ]
  },
  {
   "cell_type": "markdown",
   "metadata": {
    "id": "LVZQdqsfeB2f"
   },
   "source": [
    "## GA process"
   ]
  },
  {
   "cell_type": "code",
   "execution_count": 430,
   "metadata": {
    "id": "fT1kFWbwXrW_"
   },
   "outputs": [],
   "source": [
    "def genetic_algorithm(optimization, max_size, ind_size, k_tournament, prob_crossover, prob_mutation, limit_gen, limit_value=None):\n",
    "    generation = 0\n",
    "    population = initial(max_size, ind_size)\n",
    "    fit_pops = evaluate(population)\n",
    "    while not check_stop(fit_pops, generation, optimization, limit_gen, limit_value):\n",
    "        new_fit_pops = execute_generation(fit_pops, max_size, k_tournament, prob_crossover, prob_mutation, optimization)\n",
    "        fit_pops = update(fit_pops, new_fit_pops, optimization)\n",
    "        generation += 1\n",
    "    if optimization == 'MIN':\n",
    "        best = list(sorted(fit_pops, reverse=False))[0]\n",
    "    else:\n",
    "        best = list(sorted(fit_pops, reverse=True))[0]\n",
    "    return best"
   ]
  },
  {
   "cell_type": "markdown",
   "metadata": {
    "id": "pvdh3awheWgs"
   },
   "source": [
    "## Termination function"
   ]
  },
  {
   "cell_type": "code",
   "execution_count": 431,
   "metadata": {
    "id": "rzPB2av11_67"
   },
   "outputs": [],
   "source": [
    "def check_stop(fits_populations, generation, optimization, limit_gen, limit_value):\n",
    "    fits = [f for f, ch in fits_populations]\n",
    "    if optimization == 'MIN':\n",
    "        best = min(fits)\n",
    "        worst = max(fits)\n",
    "        reverse = False\n",
    "    else:\n",
    "        best = max(fits)\n",
    "        worst = min(fits)\n",
    "        reverse = True\n",
    "    if generation % 10 == 0 or best==0:\n",
    "        best_match = list(sorted(fits_populations, reverse=reverse))[0][1]\n",
    "        ave = sum(fits) / len(fits)\n",
    "        print(\n",
    "            \"[G %3d] score=(%4d, %4d, %4d): %r\" %\n",
    "            (generation, best, ave, worst, best_match))\n",
    "        pass\n",
    "    return generation >= limit_gen or (limit_value is not None and best == limit_value)\n"
   ]
  },
  {
   "cell_type": "markdown",
   "metadata": {
    "id": "auUz1m7xebIJ"
   },
   "source": [
    "## Process of a generation"
   ]
  },
  {
   "cell_type": "code",
   "execution_count": 432,
   "metadata": {
    "id": "mfekNHH7ykTl"
   },
   "outputs": [],
   "source": [
    "def execute_generation(pop, max_size, k_tournament, prob_crossover, prob_mutation, optimization):\n",
    "    parents_selected = []\n",
    "    if max_size > len(pop):\n",
    "        max_size = len(pop)\n",
    "    parents_selected = tournament(pop, max_size, k_tournament, optimization)\n",
    "    i = 0\n",
    "    new_pop = []\n",
    "    while i < len(parents_selected):\n",
    "        if random.random() < prob_crossover:\n",
    "            children = crossover([parents_selected[i], parents_selected[i+1]])\n",
    "        else:\n",
    "            children = [parents_selected[i], parents_selected[i+1]]\n",
    "        for ch in children:\n",
    "            new_child = mutation(ch, prob_mutation)\n",
    "            new_pop.append(new_child)\n",
    "        i = i + 2\n",
    "    fits_pop = evaluate(new_pop) \n",
    "    return fits_pop"
   ]
  },
  {
   "cell_type": "markdown",
   "metadata": {
    "id": "aW-3FT9Wedi9"
   },
   "source": [
    "## Individual initialization"
   ]
  },
  {
   "cell_type": "code",
   "execution_count": 433,
   "metadata": {
    "id": "tgHguSe60USc"
   },
   "outputs": [],
   "source": [
    "def initial(max_size, ind_size):\n",
    "    return [random_chromo(ind_size) for j in range(max_size)]"
   ]
  },
  {
   "cell_type": "markdown",
   "metadata": {
    "id": "8dtckhdEehg7"
   },
   "source": [
    "## Individual Evaluation"
   ]
  },
  {
   "cell_type": "code",
   "execution_count": 434,
   "metadata": {
    "id": "jgBoFPi2DvpY"
   },
   "outputs": [],
   "source": [
    "def evaluate(pop):\n",
    "    #The individual is converted to a tuple where \n",
    "    #the first element is its fitness and \n",
    "    #the second one its chromosome \n",
    "    fit_pop = [(fitness(ch),  ch) for ch in pop]\n",
    "    return fit_pop"
   ]
  },
  {
   "cell_type": "markdown",
   "metadata": {
    "id": "7s8712iZekKg"
   },
   "source": [
    "## Tournament selection"
   ]
  },
  {
   "cell_type": "code",
   "execution_count": 435,
   "metadata": {
    "id": "sG3aQSJn0qfZ"
   },
   "outputs": [],
   "source": [
    "def tournament(fits_populations, max_size, k_tournament, optimization):\n",
    "    parents_selected = []\n",
    "    for i in range(0, max_size):\n",
    "        parents_selected.append(select_random(fits_populations, k_tournament, optimization)[1])\n",
    "    return parents_selected"
   ]
  },
  {
   "cell_type": "markdown",
   "metadata": {
    "id": "J0dasuHmel8p"
   },
   "source": [
    "## Select best from random set"
   ]
  },
  {
   "cell_type": "code",
   "execution_count": 436,
   "metadata": {
    "id": "mY9w08m200EK"
   },
   "outputs": [],
   "source": [
    "def select_random(fits_population_par, k_tournament, optimization):\n",
    "    fits_population = fits_population_par.copy()\n",
    "    best = None\n",
    "    size = int(len(fits_population) * k_tournament)\n",
    "    selected = []\n",
    "    for e in range(0, size):\n",
    "        i = random.randint(0, len(fits_population) - 1)\n",
    "        selected.append(fits_population[i])\n",
    "    \n",
    "    if optimization == 'MIN':\n",
    "        best = list(sorted(selected, reverse=False))[0]\n",
    "    else:\n",
    "        best = list(sorted(selected, reverse=True))[0]\n",
    "    return best"
   ]
  },
  {
   "cell_type": "markdown",
   "metadata": {
    "id": "KALYYaLHen-x"
   },
   "source": [
    "## Crossover"
   ]
  },
  {
   "cell_type": "markdown",
   "metadata": {
    "id": "L6AvLPqeerom"
   },
   "source": [
    "### One-point crossover"
   ]
  },
  {
   "cell_type": "code",
   "execution_count": 437,
   "metadata": {
    "id": "BplqYVvf0kXS"
   },
   "outputs": [],
   "source": [
    "def crossover(parents):\n",
    "    father, mother = parents\n",
    "    index1 = random.randint(1, len(father) - 1)\n",
    "    child1 = father[:index1] + mother[index1:]\n",
    "    child2 = mother[:index1] + father[index1:]\n",
    "    return (child1, child2)"
   ]
  },
  {
   "cell_type": "markdown",
   "metadata": {
    "id": "DptczQlYezNt"
   },
   "source": [
    "## Replacement of the population"
   ]
  },
  {
   "cell_type": "markdown",
   "metadata": {
    "id": "_Gf1dxk2VJnC"
   },
   "source": [
    "### Elitism of the best solution"
   ]
  },
  {
   "cell_type": "code",
   "execution_count": 438,
   "metadata": {
    "id": "SEkN4euq8vhS"
   },
   "outputs": [],
   "source": [
    "def update(population, new_population, optimization):\n",
    "    if optimization == 'MIN':\n",
    "        new_population = sorted(new_population, reverse=False)\n",
    "        population = sorted(population, reverse=True)\n",
    "    else:\n",
    "        new_population = sorted(new_population, reverse=True)\n",
    "        population = sorted(population, reverse=False)\n",
    "    new_population[-1] = population[0]\n",
    "\n",
    "    return new_population"
   ]
  },
  {
   "cell_type": "markdown",
   "metadata": {
    "id": "rR5fy1j_Tw1E"
   },
   "source": [
    "# **Customization for Exercise 5**"
   ]
  },
  {
   "cell_type": "code",
   "execution_count": 439,
   "metadata": {},
   "outputs": [],
   "source": [
    "pool_volume = 2500\n",
    "piece_area = 0.5\n",
    "error_range = 0.1"
   ]
  },
  {
   "cell_type": "markdown",
   "metadata": {},
   "source": [
    "## Condition function"
   ]
  },
  {
   "cell_type": "code",
   "execution_count": 456,
   "metadata": {},
   "outputs": [],
   "source": [
    "def constraint(chromo):\n",
    "    for i in chromo:\n",
    "        if (i <= 1): return False # Considero que una magnitud sea de al menos 1 metro.\n",
    "        if (i%0.5 != 0): return False # Uso de azulejos enteros\n",
    "    if (numpy.prod(chromo) < pool_volume*(1 - error_range) or numpy.prod(chromo) > pool_volume*(1 + error_range)): return False\n",
    "    else: return True\n"
   ]
  },
  {
   "cell_type": "markdown",
   "metadata": {
    "id": "kK92Fk2LVQDg"
   },
   "source": [
    "## Fitness function"
   ]
  },
  {
   "cell_type": "code",
   "execution_count": 457,
   "metadata": {
    "id": "p9MySm0T4XeW"
   },
   "outputs": [],
   "source": [
    "def fitness(chromo): \n",
    "    if constraint(chromo) is True:\n",
    "        a = chromo[0]\n",
    "        b = chromo[1]\n",
    "        c = chromo[2]\n",
    "        return round((2*a*(b+c) + b*c)/piece_area, 0)\n",
    "    else:\n",
    "        return 9999"
   ]
  },
  {
   "cell_type": "markdown",
   "metadata": {
    "id": "R7CwKLdNVTKM"
   },
   "source": [
    "## Random initialization of an individual"
   ]
  },
  {
   "cell_type": "code",
   "execution_count": 462,
   "metadata": {
    "id": "0J4w-IzR45fd"
   },
   "outputs": [],
   "source": [
    "def random_chromo(size):\n",
    "    return [random.randint(0, 100) for i in range(0, size)] # 100 metros máximo por lado"
   ]
  },
  {
   "cell_type": "markdown",
   "metadata": {
    "id": "K-smdKBwVEu0"
   },
   "source": [
    "## Mutation"
   ]
  },
  {
   "cell_type": "code",
   "execution_count": 466,
   "metadata": {},
   "outputs": [],
   "source": [
    "def mutation(chromosome, prob_mutation):\n",
    "    d = random.randint(-1,1)\n",
    "    for i in range(len(chromosome)):\n",
    "        if (random.random() < prob_mutation): chromosome[i] = chromosome[i] + d*piece_area\n",
    "    return chromosome"
   ]
  },
  {
   "cell_type": "markdown",
   "metadata": {
    "id": "fnXsRZ7RVaUf"
   },
   "source": [
    "## Execution of the genetic algorithm"
   ]
  },
  {
   "cell_type": "code",
   "execution_count": 475,
   "metadata": {},
   "outputs": [
    {
     "name": "stdout",
     "output_type": "stream",
     "text": [
      "[G   0] score=(4032, 9973, 9999): [36, 24, 3]\n",
      "[G  10] score=(2494, 6004, 9999): [24.0, 19.0, 5.0]\n",
      "[G  20] score=(1870, 5661, 9999): [18.0, 12.5, 10.0]\n",
      "[G  30] score=(1650, 3690, 9999): [10.0, 15.0, 15.0]\n",
      "[G  40] score=(1650, 3688, 9999): [10.0, 15.0, 15.0]\n",
      "[G  50] score=(1650, 3581, 9999): [10.0, 15.0, 15.0]\n",
      "[G  60] score=(1650, 3500, 9999): [10.0, 15.0, 15.0]\n",
      "[G  70] score=(1650, 3812, 9999): [10.0, 15.0, 15.0]\n",
      "[G  80] score=(1650, 3481, 9999): [10.0, 15.0, 15.0]\n",
      "[G  90] score=(1650, 3604, 9999): [10.0, 15.0, 15.0]\n",
      "[G 100] score=(1650, 3584, 9999): [10.0, 15.0, 15.0]\n",
      "Best Individual: [10.0, 15.0, 15.0]\n",
      "Fitness: 1650.0\n"
     ]
    }
   ],
   "source": [
    "best = genetic_algorithm(optimization=\"MIN\", max_size=400, ind_size=3, limit_gen=100, \n",
    "                  k_tournament=1, prob_crossover=0.9, prob_mutation=0.3, limit_value=1000)\n",
    "print(\"Best Individual:\", best[1])\n",
    "print(\"Fitness:\", best[0])"
   ]
  }
 ],
 "metadata": {
  "colab": {
   "authorship_tag": "ABX9TyOvJd9xdDMCdPZgxLJ1aD4y",
   "collapsed_sections": [],
   "name": "ga4.ipynb",
   "provenance": [],
   "toc_visible": true
  },
  "kernelspec": {
   "display_name": "Python 3",
   "language": "python",
   "name": "python3"
  },
  "language_info": {
   "codemirror_mode": {
    "name": "ipython",
    "version": 3
   },
   "file_extension": ".py",
   "mimetype": "text/x-python",
   "name": "python",
   "nbconvert_exporter": "python",
   "pygments_lexer": "ipython3",
   "version": "3.9.7"
  }
 },
 "nbformat": 4,
 "nbformat_minor": 1
}
